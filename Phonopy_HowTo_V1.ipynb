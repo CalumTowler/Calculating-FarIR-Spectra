{
 "cells": [
  {
   "cell_type": "markdown",
   "metadata": {},
   "source": [
    "# Calculating IR Absorption frequencies with Phonopy"
   ]
  },
  {
   "cell_type": "markdown",
   "metadata": {},
   "source": [
    "Phonopy is a package that allows calculation of the dynamical matrix for systems that do not finish in 48 hours. It is designed to use the VASP architecture. This guide assumes that the system has been geometrically optimised using VASP and will use the output files from that calculation. \n",
    "\n",
    "Phonopy is a python package and this guide will assume that Anaconda is the available python distribution. The installation section will focus on installing Anaconda and Phonopy onto MobaXTerm for access onto the ARC Supercomputer. For more general instructions, please go to https://phonopy.github.io/phonopy/install.html"
   ]
  },
  {
   "cell_type": "markdown",
   "metadata": {},
   "source": [
    "## Installation"
   ]
  },
  {
   "cell_type": "markdown",
   "metadata": {},
   "source": [
    "1. To install Anaconda onto your domain, please follow the instructions given at https://arc.leeds.ac.uk/using-the-systems/advanced-topics/installing-applications-and-libraries-with-conda/\n",
    "\n",
    "2. (Optional) Create an environment for Phonopy using:\n",
    "\n",
    "conda create --name [your env name]\n",
    "    \n",
    "3. (Optional) Avtivate your enviroment using:\n",
    "    \n",
    "conda activate [your env name]\n",
    "    \n",
    "4. Install Phonopy using:\n",
    "    \n",
    "pip install phonopy"
   ]
  },
  {
   "cell_type": "markdown",
   "metadata": {},
   "source": [
    "## Input Files"
   ]
  },
  {
   "cell_type": "markdown",
   "metadata": {},
   "source": [
    "The input files for a Phonopy calculation are the output files of the finished fixed-cell geometry optimisation. These include:\n",
    "- CONTCAR (Should be renamed to POSCAR after copying over)\n",
    "- POTCAR\n",
    "- KPOINTS"
   ]
  },
  {
   "cell_type": "markdown",
   "metadata": {},
   "source": []
  }
 ],
 "metadata": {
  "kernelspec": {
   "display_name": "Python 3",
   "language": "python",
   "name": "python3"
  },
  "language_info": {
   "codemirror_mode": {
    "name": "ipython",
    "version": 3
   },
   "file_extension": ".py",
   "mimetype": "text/x-python",
   "name": "python",
   "nbconvert_exporter": "python",
   "pygments_lexer": "ipython3",
   "version": "3.6.8"
  }
 },
 "nbformat": 4,
 "nbformat_minor": 2
}
